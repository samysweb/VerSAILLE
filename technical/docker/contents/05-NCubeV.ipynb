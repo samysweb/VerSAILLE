{
 "cells": [
  {
   "cell_type": "markdown",
   "metadata": {},
   "source": [
    "# Verifying the Neural Network\n",
    "\n",
    "**TODO** but in the end you have to\n",
    "\n",
    "```bash\n",
    "NCubeV property/formula property/fixed property/mapping untrained_nn.onnx /tmp/results\n",
    "```"
   ]
  },
  {
   "cell_type": "code",
   "execution_count": null,
   "metadata": {},
   "outputs": [],
   "source": []
  }
 ],
 "metadata": {
  "language_info": {
   "name": "python"
  }
 },
 "nbformat": 4,
 "nbformat_minor": 2
}
