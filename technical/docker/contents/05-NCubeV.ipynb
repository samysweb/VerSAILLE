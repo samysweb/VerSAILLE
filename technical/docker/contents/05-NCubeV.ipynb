{
 "cells": [
  {
   "cell_type": "markdown",
   "metadata": {},
   "source": [
    "# Verifying the Neural Network\n",
    "\n",
    "We now want to verify our neural network.  \n",
    "In [03-VerSAILLE.ipynb](./03-VerSAILLE.ipynb) we have derived a specification for the neural network.\n",
    "To put this specification to use, we first need to decide which variables will be fixed and which variables map to which inputs or outputs of the neural network."
   ]
  },
  {
   "cell_type": "markdown",
   "metadata": {},
   "source": [
    "### Fixed Variables\n",
    "During training we have set `A` to `3.1` and `B` to `5.5`.\n",
    "The time step `T` was set to `0.1`.\n",
    "In NCubeV we can fix or substitute variables through a file `fixed` of the following structure:\n",
    "```julia\n",
    "\"T\"=>0.1,\n",
    "\"A\"=>3.1,\n",
    "\"B\"=>5.5\n",
    "```"
   ]
  },
  {
   "cell_type": "markdown",
   "metadata": {},
   "source": [
    "### Mapping of variables\n",
    "In our work we assume that the neural network is provided with the relative position `prel` and relative velocity `vrel`\n",
    "and returns three variables `x1`,`x2`,`x3` which determine the chosen acceleration.\n",
    "In NCubeV we map the variables to NN inputs/outputs as follows:\n",
    "```julia\n",
    "\"prel\"=>(Input,1),\n",
    "\"vrel\"=>(Input,2),\n",
    "\"x1\"=>(Output,1),\n",
    "\"x2\"=>(Output,2),\n",
    "\"x3\"=>(Output,3)\n",
    "\n",
    "```"
   ]
  },
  {
   "cell_type": "markdown",
   "metadata": {},
   "source": [
    "## Verifying neural networks\n",
    "For convenience we have collated the three necessary files (specification, fixed variables, mapping of variables) in the folder `./property`.\n",
    "Thus, you should now be ready to verify your first neural network.\n",
    "To this end, open a terminal in the Jupyter Lab and run the following query to verify the **untrained** neural network.  \n",
    "We would expect this to fail:\n",
    "\n",
    "```bash\n",
    "NCubeV property/formula property/fixed property/mapping untrained_nn.onnx /tmp/results_untrained\n",
    "```"
   ]
  },
  {
   "cell_type": "markdown",
   "metadata": {},
   "source": [
    "### Analyzing failures\n",
    "Since the neural network verification failed, we now want to analyze what parts of the state space contain unsafe control decisions.  \n",
    "To this end, we can plot the regions where verification found unsafe outputs"
   ]
  },
  {
   "cell_type": "code",
   "execution_count": null,
   "metadata": {},
   "outputs": [],
   "source": [
    "include(\"libs/analysis.jl\")"
   ]
  },
  {
   "cell_type": "code",
   "execution_count": null,
   "metadata": {},
   "outputs": [],
   "source": [
    "results = summarize_and_load(\"/tmp/\",\"results_untrained\")\n",
    "print(\"Status: \", results[1].status)\n",
    "print(\"# Counterexample Regions: \",length(results[1].stars))"
   ]
  },
  {
   "cell_type": "code",
   "execution_count": null,
   "metadata": {},
   "outputs": [],
   "source": [
    "acc_draw_regions(results[1].stars,drawThreshold=0.1)"
   ]
  },
  {
   "cell_type": "markdown",
   "metadata": {},
   "source": [
    "The plot above has the position as x-axis and the current velocity as y-axis.  \n",
    "The orange line represents the boundary of the considered state space.  \n",
    "The regions in red indicate where the NN still makes unsafe control decisions."
   ]
  },
  {
   "cell_type": "markdown",
   "metadata": {},
   "source": [
    "### Verifying a safe NN"
   ]
  },
  {
   "cell_type": "markdown",
   "metadata": {},
   "source": [
    "Next, we can try to verify our trained neural network:\n",
    "```bash\n",
    "NCubeV property/formula property/fixed property/mapping trained_nn.onnx /tmp/results_trained\n",
    "```"
   ]
  },
  {
   "cell_type": "code",
   "execution_count": null,
   "metadata": {},
   "outputs": [],
   "source": [
    "results = summarize_and_load(\"/tmp/\",\"results_trained\")\n",
    "print(\"Status: \", results[1].status)\n",
    "print(\"# Counterexample Regions: \",length(results[1].stars))"
   ]
  }
 ],
 "metadata": {
  "kernelspec": {
   "display_name": "Julia Versaille 1.10.4",
   "language": "julia",
   "name": "julia-versaille-1.10"
  },
  "language_info": {
   "file_extension": ".jl",
   "mimetype": "application/julia",
   "name": "julia",
   "version": "1.10.4"
  }
 },
 "nbformat": 4,
 "nbformat_minor": 4
}
