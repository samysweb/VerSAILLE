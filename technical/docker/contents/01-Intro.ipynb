{
 "cells": [
  {
   "cell_type": "markdown",
   "id": "e895162e-bec3-4c1a-8323-02e9b619d85b",
   "metadata": {},
   "source": [
    "# Welcome\n",
    "You maded it!  \n",
    "It looks like you successfully installed the container.  \n",
    "This setup is meant to help you to get a better understanding of Versaille and Mosaic/$N^3V$.  \n",
    "To this end, you will:\n",
    "- Train an NN which is meant to control a simple Cyber-Physical System  \n",
    "  $\\rightarrow$ see [02-Training.ipynb](./02-Training.ipynb)\n",
    "- Verify an abstract control envelope in KeYmaera X  \n",
    "  $\\rightarrow$ see [03-KeYmaera.ipynb](./03-KeYmaera.ipynb)\n",
    "- Generate a specification for the NN based on the abstract control envelope  \n",
    "  $\\rightarrow$ see [04-VerSAILLE.ipynb](./04-VerSAILLE.ipynb)\n",
    "- Prove (or disprove?) that the NN satisfies the specification  \n",
    "  $\\rightarrow$ see [05-NCubeV.ipynb](./05-NCubeV.ipynb)"
   ]
  },
  {
   "cell_type": "code",
   "execution_count": null,
   "id": "84a9cd12-837d-4cdc-80f2-4840219008ee",
   "metadata": {},
   "outputs": [],
   "source": []
  }
 ],
 "metadata": {
  "kernelspec": {
   "display_name": "Python 3 (ipykernel)",
   "language": "python",
   "name": "python3"
  },
  "language_info": {
   "codemirror_mode": {
    "name": "ipython",
    "version": 3
   },
   "file_extension": ".py",
   "mimetype": "text/x-python",
   "name": "python",
   "nbconvert_exporter": "python",
   "pygments_lexer": "ipython3",
   "version": "3.11.9"
  }
 },
 "nbformat": 4,
 "nbformat_minor": 5
}
