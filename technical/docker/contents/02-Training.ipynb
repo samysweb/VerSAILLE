{
 "cells": [
  {
   "cell_type": "markdown",
   "id": "c8575be1-709d-4e56-b49a-8b8609bb689b",
   "metadata": {},
   "source": [
    "# Training a Neural Network for Adaptive Cruise Control"
   ]
  },
  {
   "attachments": {
    "b10a6c91-db7b-4136-845a-a755cdbc7f00.png": {
     "image/png": "[encoded data removed]"
    }
   },
   "cell_type": "markdown",
   "id": "92ab73da-f0f7-44a6-97cc-2d1497997478",
   "metadata": {},
   "source": [
    "## Intro\n",
    "This notebook trains a neural network for adaptive cruise control in a highly simplified setting.\n",
    "\n",
    "![grafik.png](attachment:b10a6c91-db7b-4136-845a-a755cdbc7f00.png)\n",
    "\n",
    "- The system is described by two variables: Relative (!) Position $p_{\\text{rel}}$ and Velocity $v_{\\text{rel}}$\n",
    "- The Neural Network determines the acceleration of the car in the back via discrete control:\n",
    "  Accelerate ($a_{\\text{rel}}=-A$); No Acceleration ($a_{\\text{rel}}=0$); Brake ($a_{\\text{rel}}=B$)\n",
    "- The dynamics of the system are given as $p_{\\text{rel}}'=v_{\\text{rel}},v_{\\text{rel}}'=a_{\\text{rel}}$ and there is a control decision at least every $0.1$ seconds\n",
    "- To keep the system safe, we must ensure that the car in the back never crashes into the car in the front"
   ]
  },
  {
   "cell_type": "markdown",
   "id": "c64b90c0-945c-4069-9dad-8bb398561c63",
   "metadata": {},
   "source": [
    "## Code\n",
    "We will use the reinforcement learning framework [`gymnasium`](https://gymnasium.farama.org/) (formerly OpenAI `gym`) to train our Neural Network.\n",
    "\n",
    "### Preamble\n",
    "Some necessary imports..."
   ]
  },
  {
   "cell_type": "code",
   "execution_count": null,
   "id": "00aa04ad-08b4-4db3-87dc-81239a7909db",
   "metadata": {},
   "outputs": [],
   "source": [
    "import libs.acc\n",
    "from libs.gym_helper import show_run, extract_onnx"
   ]
  },
  {
   "cell_type": "code",
   "execution_count": null,
   "id": "3eb13a02-06b8-474c-8ea0-e4f7b3e9fe70",
   "metadata": {},
   "outputs": [],
   "source": [
    "import gymnasium as gym\n",
    "from gymnasium import wrappers\n",
    "\n",
    "from stable_baselines3 import PPO\n",
    "from stable_baselines3.common.evaluation import evaluate_policy\n",
    "from stable_baselines3.common.monitor import Monitor\n",
    "import time\n",
    "import numpy as np\n",
    "\n",
    "from torch import nn"
   ]
  },
  {
   "cell_type": "markdown",
   "id": "7be3a3ad-5ea4-44e5-9c88-7aa3a28eface",
   "metadata": {},
   "source": [
    "Next, we initialize the environment.  \n",
    "To see, how we can implement environments, feel free to have a look at `./libs/acc.py`\n",
    "\n",
    "#### Digression: Reward Function\n",
    "We will train our agent via Reinforcement Learning.\n",
    "To this end, we require a reward function which tells our agent whether its behavior is good or not.\n",
    "\n",
    "The computation of the reward is implemented in the `step` function of the environment in `./libs/acc.py`\n",
    "\n",
    "Unfortunately, designing good loss functions is a very complicated topic where [lots of things can go wrong](https://par.nsf.gov/servlets/purl/10424463).  \n",
    "Fortunately, in our case the reward function fell from the sky:\n",
    "- If the agent is still alive and well: +0.1\n",
    "- If the agent crashed: -200\n",
    "- If the agent's position is larger than the cutoff ($>100$): -50"
   ]
  },
  {
   "cell_type": "code",
   "execution_count": null,
   "id": "879a941f-f606-4491-884e-e6e3d913ff64",
   "metadata": {},
   "outputs": [],
   "source": [
    "# Initialize Training Environment for ACC\n",
    "env = gym.make(\"acc-discrete-v0\")"
   ]
  },
  {
   "cell_type": "markdown",
   "id": "ff2e977f-01db-4560-84ed-36e0837c2833",
   "metadata": {},
   "source": [
    "Next we initialize our neural network.  \n",
    "Fortunately, we do note have to implement the NN training ourselves, but can rely on the `PPO` algorith implemented in `stable-baselines3`.\n",
    "By modifying the value of `pi` in `architecture` we can modify the number of layers/nodes in the neural network that determines the agent's policy."
   ]
  },
  {
   "cell_type": "code",
   "execution_count": null,
   "id": "3f481213-2b62-4b40-a333-68aba2c87968",
   "metadata": {
    "scrolled": true
   },
   "outputs": [],
   "source": [
    "# Initialize Agent\n",
    "architecture = dict(pi=[64, 64, 64, 64], vf=[64, 64, 64, 64])\n",
    "model = PPO(\"MlpPolicy\", env, verbose=1,policy_kwargs={\"activation_fn\":nn.ReLU,\"net_arch\":architecture})"
   ]
  },
  {
   "cell_type": "markdown",
   "id": "18b4a2d8-d7ba-43fc-a2e4-3e202d9af891",
   "metadata": {},
   "source": [
    "### Evaluation\n",
    "Now that we have an agent, we can test the agent and see what reward we currently get.  \n",
    "To this end, we setup a new evaluation environment and use the function `evaluate_policy`:"
   ]
  },
  {
   "cell_type": "code",
   "execution_count": null,
   "id": "37819fb3-2ad6-4c09-9284-e0e4dad48ede",
   "metadata": {},
   "outputs": [],
   "source": [
    "# Initialize Evaluation Environment for ACC\n",
    "eval_env = Monitor(gym.make('acc-discrete-v0'))"
   ]
  },
  {
   "cell_type": "code",
   "execution_count": null,
   "id": "3700066c-d45a-4d45-8910-98668eccbddf",
   "metadata": {},
   "outputs": [],
   "source": [
    "# Evaluate untrained agent\n",
    "mean_reward, std_reward = evaluate_policy(model, eval_env, n_eval_episodes=1000)\n",
    "print(f\"mean_reward:{mean_reward:.2f} +/- {std_reward:.2f}\")"
   ]
  },
  {
   "cell_type": "markdown",
   "id": "99d49704-a36f-48b3-814d-838d1153f643",
   "metadata": {},
   "source": [
    "We can also have a look at what the behavior of the agent looks like:"
   ]
  },
  {
   "cell_type": "code",
   "execution_count": null,
   "id": "46d6e3a8-8153-46f0-a323-ed9f2fff7c18",
   "metadata": {},
   "outputs": [],
   "source": [
    "show_run(eval_env, model)"
   ]
  },
  {
   "cell_type": "markdown",
   "id": "02b60f92-d469-44bd-8a29-0263be16ddd5",
   "metadata": {},
   "source": [
    "Just in case, we save a copy of the untrained neural network..."
   ]
  },
  {
   "cell_type": "code",
   "execution_count": null,
   "id": "91070b64-6fbb-4eb9-a120-a5829577d943",
   "metadata": {},
   "outputs": [],
   "source": [
    "extract_onnx(model,\"untrained_nn.onnx\")"
   ]
  },
  {
   "cell_type": "markdown",
   "id": "0aa4c81c-804a-4da9-a2fa-a1f16d9d7d36",
   "metadata": {},
   "source": [
    "### Training\n",
    "To get a better agent, we must train the model.  \n",
    "This takes 5-10 minutes"
   ]
  },
  {
   "cell_type": "code",
   "execution_count": null,
   "id": "4561ba74-1a3e-4f85-81d6-b55a1bb0adea",
   "metadata": {
    "scrolled": true
   },
   "outputs": [],
   "source": [
    "# Train agent\n",
    "model.learn(total_timesteps=200_000)"
   ]
  },
  {
   "cell_type": "markdown",
   "id": "371e30f0-9d7a-414c-982b-1d7aafbe02b1",
   "metadata": {},
   "source": [
    "Now we can evaluate again..."
   ]
  },
  {
   "cell_type": "code",
   "execution_count": null,
   "id": "769c60cd-23c1-4c23-95a0-fc633550d019",
   "metadata": {},
   "outputs": [],
   "source": [
    "# Evaluate untrained agent\n",
    "mean_reward, std_reward = evaluate_policy(model, eval_env, n_eval_episodes=1000)\n",
    "print(f\"mean_reward:{mean_reward:.2f} +/- {std_reward:.2f}\")"
   ]
  },
  {
   "cell_type": "markdown",
   "id": "6aab16f3-1c71-4688-82f9-058673fc33eb",
   "metadata": {},
   "source": [
    "...and look at what the policy does..."
   ]
  },
  {
   "cell_type": "code",
   "execution_count": null,
   "id": "de9887cf-300b-4a9e-bee0-2aec87dc3202",
   "metadata": {
    "scrolled": true
   },
   "outputs": [],
   "source": [
    "show_run(eval_env, model)"
   ]
  },
  {
   "cell_type": "markdown",
   "id": "b1d3b0a5-e8d7-4cf8-8d75-dd088b8fe2dd",
   "metadata": {},
   "source": [
    "Now we save the policy neural network to use it later..."
   ]
  },
  {
   "cell_type": "code",
   "execution_count": null,
   "id": "e6736913-1ae6-4166-9f1e-bd7497ede279",
   "metadata": {},
   "outputs": [],
   "source": [
    "extract_onnx(model,\"trained_nn.onnx\")"
   ]
  }
 ],
 "metadata": {
  "kernelspec": {
   "display_name": "versaille",
   "language": "python",
   "name": "versaille"
  },
  "language_info": {
   "codemirror_mode": {
    "name": "ipython",
    "version": 3
   },
   "file_extension": ".py",
   "mimetype": "text/x-python",
   "name": "python",
   "nbconvert_exporter": "python",
   "pygments_lexer": "ipython3",
   "version": "3.8.19"
  }
 },
 "nbformat": 4,
 "nbformat_minor": 5
}
